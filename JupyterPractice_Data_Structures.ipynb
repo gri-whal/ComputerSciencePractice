{
 "cells": [
  {
   "cell_type": "markdown",
   "metadata": {},
   "source": [
    "# Hello and welcome to my very first Jupyter Notebook experiment!\n",
    "\n",
    "The purpose of this document is dual: learn about Jupyter and start experimenting with learning/teaching data structures and algorithms in a visual and hopefully fun way. I'll be using Python as a language of choice for its brevity, clarity and readability. Note that wherever applicable, I'll have notes on the Python's drawbacks and what language would be preferred. \n",
    "\n",
    "*Please NOTE: I expect that you have a familiarity with Python. If not, please visit:\n",
    "[CodeAcademy](https://www.codecademy.com/)*"
   ]
  },
  {
   "cell_type": "code",
   "execution_count": null,
   "metadata": {},
   "outputs": [],
   "source": [
    "# Let's start with a basic Hello World!\n",
    "\n",
    "print \"Hello World!\""
   ]
  },
  {
   "cell_type": "markdown",
   "metadata": {},
   "source": [
    "Great, now that our feet are wet and we're pretty damn confident in ourselves, let's do a rundown of the common data structures:\n",
    "\n",
    "    * Array\n",
    "    * List\n",
    "    * LinkedList\n",
    "    * Stack\n",
    "    * Queue\n",
    "    * Hash Table\n",
    "    * Heap\n",
    "    * Binary Search Tree\n",
    "    "
   ]
  }
 ],
 "metadata": {
  "kernelspec": {
   "display_name": "Python 2",
   "language": "python",
   "name": "python2"
  },
  "language_info": {
   "codemirror_mode": {
    "name": "ipython",
    "version": 2
   },
   "file_extension": ".py",
   "mimetype": "text/x-python",
   "name": "python",
   "nbconvert_exporter": "python",
   "pygments_lexer": "ipython2",
   "version": "2.7.12"
  }
 },
 "nbformat": 4,
 "nbformat_minor": 2
}
